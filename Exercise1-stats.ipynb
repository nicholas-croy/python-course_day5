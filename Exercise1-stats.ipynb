{
 "cells": [
  {
   "cell_type": "code",
   "execution_count": 3,
   "id": "ae5e9a0f",
   "metadata": {},
   "outputs": [],
   "source": [
    "from scipy import stats\n",
    "import numpy as np\n",
    "from matplotlib import pyplot as plt"
   ]
  },
  {
   "cell_type": "code",
   "execution_count": 4,
   "id": "c6ffb658",
   "metadata": {},
   "outputs": [
    {
     "data": {
      "text/plain": [
       "(array([138., 185., 234., 179., 142.,  96.,  20.,   3.,   2.,   1.]),\n",
       " array([ 0. ,  1.2,  2.4,  3.6,  4.8,  6. ,  7.2,  8.4,  9.6, 10.8, 12. ]),\n",
       " <BarContainer object of 10 artists>)"
      ]
     },
     "execution_count": 4,
     "metadata": {},
     "output_type": "execute_result"
    },
    {
     "data": {
      "image/png": "[encoded data removed]",
      "text/plain": [
       "<Figure size 432x288 with 3 Axes>"
      ]
     },
     "metadata": {
      "needs_background": "light"
     },
     "output_type": "display_data"
    }
   ],
   "source": [
    "X = stats.poisson(3.5)\n",
    "\n",
    "n = np.arange(0,15)\n",
    "\n",
    "fig, axes = plt.subplots(3,1,sharex=True)\n",
    "\n",
    "axes[0].step(n,X.pmf(n))\n",
    "axes[1].step(n,X.cdf(n))\n",
    "axes[2].hist(X.rvs(size=1000))"
   ]
  },
  {
   "cell_type": "code",
   "execution_count": 9,
   "id": "2ab21e5f",
   "metadata": {},
   "outputs": [
    {
     "data": {
      "text/plain": [
       "(array([  2.,  12.,  62., 158., 195., 249., 187.,  90.,  38.,   7.]),\n",
       " array([-3.48802284, -2.83578121, -2.18353958, -1.53129795, -0.87905631,\n",
       "        -0.22681468,  0.42542695,  1.07766859,  1.72991022,  2.38215185,\n",
       "         3.03439349]),\n",
       " <BarContainer object of 10 artists>)"
      ]
     },
     "execution_count": 9,
     "metadata": {},
     "output_type": "execute_result"
    },
    {
     "data": {
      "image/png": "[encoded data removed]",
      "text/plain": [
       "<Figure size 432x288 with 3 Axes>"
      ]
     },
     "metadata": {
      "needs_background": "light"
     },
     "output_type": "display_data"
    }
   ],
   "source": [
    "Y = stats.norm()\n",
    "\n",
    "x = np.linspace(-5,5,100)\n",
    "\n",
    "fig2, axes2 = plt.subplots(3,1,sharex=True)\n",
    "\n",
    "axes2[0].step(x,Y.pdf(x))\n",
    "axes2[1].step(x,Y.cdf(x))\n",
    "axes2[2].hist(Y.rvs(size=1000))"
   ]
  },
  {
   "cell_type": "code",
   "execution_count": 11,
   "id": "f9fe0b47",
   "metadata": {},
   "outputs": [
    {
     "data": {
      "text/plain": [
       "(3.5, 1.8708286933869707, 3.5)"
      ]
     },
     "execution_count": 11,
     "metadata": {},
     "output_type": "execute_result"
    }
   ],
   "source": [
    "X.mean(), X.std(), X.var() # poission distribution"
   ]
  },
  {
   "cell_type": "code",
   "execution_count": 12,
   "id": "97453193",
   "metadata": {},
   "outputs": [
    {
     "data": {
      "text/plain": [
       "(0.0, 1.0, 1.0)"
      ]
     },
     "execution_count": 12,
     "metadata": {},
     "output_type": "execute_result"
    }
   ],
   "source": [
    "Y.mean(), Y.std(), Y.var() # normal distribution"
   ]
  },
  {
   "cell_type": "code",
   "execution_count": 14,
   "id": "16395cb2",
   "metadata": {},
   "outputs": [
    {
     "name": "stdout",
     "output_type": "stream",
     "text": [
      "t-statistic =0.359934426569149\n",
      "p-value =0.7189342123799785\n"
     ]
    }
   ],
   "source": [
    "t_statistic, p_value = stats.ttest_ind(X.rvs(size=1000), X.rvs(size=1000))\n",
    "\n",
    "print(\"t-statistic =\" + str(t_statistic))\n",
    "print(\"p-value =\" + str(p_value))"
   ]
  },
  {
   "cell_type": "code",
   "execution_count": 15,
   "id": "10083ebf",
   "metadata": {},
   "outputs": [
    {
     "data": {
      "text/plain": [
       "Ttest_1sampResult(statistic=-3.4351641149696657, pvalue=0.0006165483678702056)"
      ]
     },
     "execution_count": 15,
     "metadata": {},
     "output_type": "execute_result"
    }
   ],
   "source": [
    "stats.ttest_1samp(Y.rvs(size=1000), 0.1)"
   ]
  },
  {
   "cell_type": "code",
   "execution_count": 16,
   "id": "4d2e6586",
   "metadata": {},
   "outputs": [
    {
     "data": {
      "text/plain": [
       "0.0"
      ]
     },
     "execution_count": 16,
     "metadata": {},
     "output_type": "execute_result"
    }
   ],
   "source": [
    "Y.mean()"
   ]
  },
  {
   "cell_type": "code",
   "execution_count": 17,
   "id": "e3fb3a59",
   "metadata": {},
   "outputs": [
    {
     "data": {
      "text/plain": [
       "Ttest_1sampResult(statistic=-1.169229423340698, pvalue=0.24259011197306232)"
      ]
     },
     "execution_count": 17,
     "metadata": {},
     "output_type": "execute_result"
    }
   ],
   "source": [
    "stats.ttest_1samp(Y.rvs(size=1000), Y.mean())"
   ]
  },
  {
   "cell_type": "code",
   "execution_count": null,
   "id": "4c940807",
   "metadata": {},
   "outputs": [],
   "source": []
  }
 ],
 "metadata": {
  "kernelspec": {
   "display_name": "Python 3 (ipykernel)",
   "language": "python",
   "name": "python3"
  },
  "language_info": {
   "codemirror_mode": {
    "name": "ipython",
    "version": 3
   },
   "file_extension": ".py",
   "mimetype": "text/x-python",
   "name": "python",
   "nbconvert_exporter": "python",
   "pygments_lexer": "ipython3",
   "version": "3.8.8"
  }
 },
 "nbformat": 4,
 "nbformat_minor": 5
}
